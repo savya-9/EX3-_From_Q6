{
 "cells": [
  {
   "cell_type": "code",
   "execution_count": 1,
   "id": "7cd9a7fa",
   "metadata": {},
   "outputs": [
    {
     "name": "stdout",
     "output_type": "stream",
     "text": [
      "No. is smaller than 10\n",
      "This statement will always be executed\n"
     ]
    }
   ],
   "source": [
    "#Q6\n",
    "num = 5\n",
    "if num < 10:\n",
    "    print(\"No. is smaller than 10\")\n",
    "    print(\"This statement will always be executed\")\n",
    "    "
   ]
  },
  {
   "cell_type": "code",
   "execution_count": 2,
   "id": "2744207d",
   "metadata": {},
   "outputs": [
    {
     "name": "stdout",
     "output_type": "stream",
     "text": [
      "Enter your score please.\n",
      "90\n",
      "Enter the passing score.\n",
      "75\n",
      "Congratulations! You have passed your exam\n"
     ]
    }
   ],
   "source": [
    "# Q7\n",
    "my_score = float(input(\"Enter your score please.\\n\"))\n",
    "passing_score = float(input(\"Enter the passing score.\\n\"))\n",
    "if passing_score >= 60:\n",
    "    print(\"Congratulations! You have passed your exam\")\n",
    "else:\n",
    "    print(\"You need to work hard\")\n",
    "    "
   ]
  },
  {
   "cell_type": "code",
   "execution_count": 3,
   "id": "83ee3400",
   "metadata": {},
   "outputs": [
    {
     "name": "stdout",
     "output_type": "stream",
     "text": [
      "num is positive\n",
      "No. is less than 10\n"
     ]
    }
   ],
   "source": [
    "# Q8\n",
    "num = 5\n",
    "if num > 0:\n",
    "    print(\"num is positive\")\n",
    "if num < 10:\n",
    "    print(\"No. is less than 10\")"
   ]
  },
  {
   "cell_type": "code",
   "execution_count": 4,
   "id": "dc69d228",
   "metadata": {},
   "outputs": [
    {
     "name": "stdout",
     "output_type": "stream",
     "text": [
      "Enter a number please.\n",
      "9\n",
      "Number is greater than 0\n"
     ]
    }
   ],
   "source": [
    "# Q9\n",
    "n = float(input(\"Enter a number please.\\n\"))\n",
    "if n != 0:\n",
    "    if n > 0:\n",
    "        print(\"Number is greater than 0\")"
   ]
  },
  {
   "cell_type": "code",
   "execution_count": 6,
   "id": "36e01dc2",
   "metadata": {},
   "outputs": [
    {
     "name": "stdout",
     "output_type": "stream",
     "text": [
      "Enter the first number please.\n",
      "10\n",
      "Enter the second number please.\n",
      "20\n",
      "Enter the third number please.\n",
      "30\n",
      "All the conditions are true\n"
     ]
    }
   ],
   "source": [
    "# Q10\n",
    "num1 = float(input(\"Enter the first number please.\\n\"))\n",
    "num2 = float(input(\"Enter the second number please.\\n\"))\n",
    "num3 = float(input(\"Enter the third number please.\\n\"))\n",
    "if num1 == 10 and num2 == 20 and num3 == 30:\n",
    "    print(\"All the conditions are true\")\n",
    "    \n",
    "        "
   ]
  },
  {
   "cell_type": "code",
   "execution_count": 9,
   "id": "8f9185ff",
   "metadata": {},
   "outputs": [
    {
     "name": "stdout",
     "output_type": "stream",
     "text": [
      "Enter the fruit name please.\n",
      "Apple\n",
      "Its a fruit\n"
     ]
    }
   ],
   "source": [
    "# Q11\n",
    "fruit_name = input(\"Enter the fruit name please.\\n\")\n",
    "if fruit_name == \"Mango\" or fruit_name == \"Apple\" or fruit_name == \"Grapes\":\n",
    "    print(\"Its a fruit\")"
   ]
  },
  {
   "cell_type": "code",
   "execution_count": null,
   "id": "ac2917d1",
   "metadata": {},
   "outputs": [],
   "source": []
  },
  {
   "cell_type": "code",
   "execution_count": null,
   "id": "19c39ec4",
   "metadata": {},
   "outputs": [],
   "source": []
  }
 ],
 "metadata": {
  "kernelspec": {
   "display_name": "Python 3",
   "language": "python",
   "name": "python3"
  },
  "language_info": {
   "codemirror_mode": {
    "name": "ipython",
    "version": 3
   },
   "file_extension": ".py",
   "mimetype": "text/x-python",
   "name": "python",
   "nbconvert_exporter": "python",
   "pygments_lexer": "ipython3",
   "version": "3.8.8"
  }
 },
 "nbformat": 4,
 "nbformat_minor": 5
}
